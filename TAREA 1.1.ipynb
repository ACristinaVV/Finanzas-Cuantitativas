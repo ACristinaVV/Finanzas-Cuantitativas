{
 "cells": [
  {
   "cell_type": "markdown",
   "metadata": {},
   "source": [
    "### Tarea 1.1  \n",
    "Elaborada por: Lyha Espinosa García, Ana Cristina Vázquez Vargas.  \n",
    "Expedientes: if721861, if\n"
   ]
  },
  {
   "cell_type": "markdown",
   "metadata": {},
   "source": [
    "Use the Csv files that contains 2000 records of the sales of similar products in the (each columns represents a year).  \n",
    "\n",
    "- A. Develop a function in python where you can evaluate a project using IRR and NPV\n",
    "- B. The inputs is the flows by year (csv file), the output is a data frame containing NPV and IRR\n",
    "- C. Add lines to the code to answer the 4 question of the activity \n",
    "1. What the probability that the IRR is over the Risk free rate?\n",
    "2. What the probability that the IRR is over the 35%?\n",
    "3. What the probability that the project value is over $\\$2M$?\n",
    "4. What’s the probability that the IRR is between 10% and 20%?"
   ]
  },
  {
   "cell_type": "code",
   "execution_count": null,
   "metadata": {},
   "outputs": [],
   "source": []
  },
  {
   "cell_type": "code",
   "execution_count": null,
   "metadata": {},
   "outputs": [],
   "source": []
  },
  {
   "cell_type": "code",
   "execution_count": null,
   "metadata": {},
   "outputs": [],
   "source": []
  }
 ],
 "metadata": {
  "kernelspec": {
   "display_name": "Python 3",
   "language": "python",
   "name": "python3"
  },
  "language_info": {
   "codemirror_mode": {
    "name": "ipython",
    "version": 3
   },
   "file_extension": ".py",
   "mimetype": "text/x-python",
   "name": "python",
   "nbconvert_exporter": "python",
   "pygments_lexer": "ipython3",
   "version": "3.8.5"
  }
 },
 "nbformat": 4,
 "nbformat_minor": 4
}
