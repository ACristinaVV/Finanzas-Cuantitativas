{
 "cells": [
  {
   "cell_type": "markdown",
   "metadata": {},
   "source": [
    "## Tarea 1.1  \n",
    "#### Elaborada por: Lyha Espinosa García, Ana Cristina Vázquez Vargas.   \n",
    "Expedientes: if721861, if721215\n"
   ]
  },
  {
   "cell_type": "markdown",
   "metadata": {},
   "source": [
    "Use the Csv files that contains 2000 records of the sales of similar products in the (each columns represents a year).  \n",
    "\n",
    "- A. Develop a function in python where you can evaluate a project using IRR and NPV\n",
    "- B. The inputs is the flows by year (csv file), the output is a data frame containing NPV and IRR\n",
    "- C. Add lines to the code to answer the 4 question of the activity \n",
    "1. What the probability that the IRR is over the Risk free rate?\n",
    "2. What the probability that the IRR is over the 35%?\n",
    "3. What the probability that the project value is over $\\$2M$?\n",
    "4. What’s the probability that the IRR is between 10% and 20%?"
   ]
  },
  {
   "cell_type": "code",
   "execution_count": 1,
   "metadata": {},
   "outputs": [],
   "source": [
    "import pandas as pd\n",
    "import numpy as np"
   ]
  },
  {
   "cell_type": "code",
   "execution_count": 2,
   "metadata": {},
   "outputs": [],
   "source": [
    "def frame_inicial(datos,rf,precio,costo,costo_fijo,inversion):\n",
    "    \n",
    "    #Genera un data frame con la inversión inicial en negativo\n",
    "    finicial=pd.DataFrame(columns=[\"Year 0\"])\n",
    "    for i in range(len(datos)):\n",
    "        finicial.loc[i,\"Year 0\"]=-inversion\n",
    "    \n",
    "    #Genera un data frame con los flujos de efectivo\n",
    "    data = pd.DataFrame(datos)\n",
    "    for i in range(len(data)):\n",
    "        for j in range(len(data.columns)):\n",
    "            data.iloc[i,j]=(data.iloc[i,j])*(precio-costo)-costo_fijo\n",
    "            \n",
    "    #Union de los dataframes anteriores\n",
    "    flujos = finicial.join(data)\n",
    "    \n",
    "    return flujos\n",
    "\n",
    "\n",
    "    "
   ]
  },
  {
   "cell_type": "code",
   "execution_count": 3,
   "metadata": {},
   "outputs": [],
   "source": [
    "def net_present_value(flujos,rf):\n",
    "    NPV= pd.DataFrame(columns=[\"NPV\"])\n",
    "    for i in range(len(flujos)):\n",
    "        rate, cashflows = rf,flujos.iloc[i,0:].to_list()\n",
    "        NPV.loc[i,\"NPV\"]= np.npv(rate, cashflows).round(5)\n",
    "    return NPV\n",
    "\n",
    "    "
   ]
  },
  {
   "cell_type": "code",
   "execution_count": 4,
   "metadata": {},
   "outputs": [],
   "source": [
    "def internal_interest_rate(flujos):\n",
    "    IRR= pd.DataFrame(columns=[\"IRR %\"])\n",
    "    for i in range(len(flujos)):\n",
    "        cash = flujos.iloc[i,0:].to_list()\n",
    "        IRR.loc[i,\"IRR %\"]= np.irr(cash)*100\n",
    "        \n",
    "    return IRR\n",
    "    "
   ]
  },
  {
   "cell_type": "code",
   "execution_count": 5,
   "metadata": {},
   "outputs": [],
   "source": [
    "def resultados(npv,irr):\n",
    "    return npv.join(irr)"
   ]
  },
  {
   "cell_type": "code",
   "execution_count": 6,
   "metadata": {},
   "outputs": [],
   "source": [
    "datos = pd.read_csv(\"Oil.csv\", header=0)"
   ]
  },
  {
   "cell_type": "code",
   "execution_count": 7,
   "metadata": {},
   "outputs": [],
   "source": [
    "rf = .03\n",
    "precio = 5\n",
    "costo = 0.8\n",
    "costo_fijo = 40000\n",
    "inversion = 1800000"
   ]
  },
  {
   "cell_type": "code",
   "execution_count": 8,
   "metadata": {},
   "outputs": [],
   "source": [
    "flujos=frame_inicial(datos,rf,precio,costo,costo_fijo,inversion)\n",
    "npv = net_present_value(flujos,rf)\n",
    "irr = internal_interest_rate(flujos)\n",
    "tabla = resultados(npv,irr)"
   ]
  },
  {
   "cell_type": "code",
   "execution_count": 9,
   "metadata": {},
   "outputs": [
    {
     "data": {
      "text/html": [
       "<div>\n",
       "<style scoped>\n",
       "    .dataframe tbody tr th:only-of-type {\n",
       "        vertical-align: middle;\n",
       "    }\n",
       "\n",
       "    .dataframe tbody tr th {\n",
       "        vertical-align: top;\n",
       "    }\n",
       "\n",
       "    .dataframe thead th {\n",
       "        text-align: right;\n",
       "    }\n",
       "</style>\n",
       "<table border=\"1\" class=\"dataframe\">\n",
       "  <thead>\n",
       "    <tr style=\"text-align: right;\">\n",
       "      <th></th>\n",
       "      <th>NPV</th>\n",
       "      <th>IRR</th>\n",
       "    </tr>\n",
       "  </thead>\n",
       "  <tbody>\n",
       "    <tr>\n",
       "      <th>0</th>\n",
       "      <td>2.84129e+06</td>\n",
       "      <td>0.508144</td>\n",
       "    </tr>\n",
       "    <tr>\n",
       "      <th>1</th>\n",
       "      <td>925629</td>\n",
       "      <td>0.27226</td>\n",
       "    </tr>\n",
       "    <tr>\n",
       "      <th>2</th>\n",
       "      <td>753242</td>\n",
       "      <td>0.166964</td>\n",
       "    </tr>\n",
       "    <tr>\n",
       "      <th>3</th>\n",
       "      <td>1.85007e+06</td>\n",
       "      <td>0.43526</td>\n",
       "    </tr>\n",
       "    <tr>\n",
       "      <th>4</th>\n",
       "      <td>3.23372e+06</td>\n",
       "      <td>0.591007</td>\n",
       "    </tr>\n",
       "    <tr>\n",
       "      <th>5</th>\n",
       "      <td>1.94609e+06</td>\n",
       "      <td>0.346173</td>\n",
       "    </tr>\n",
       "    <tr>\n",
       "      <th>6</th>\n",
       "      <td>2.65261e+06</td>\n",
       "      <td>0.424621</td>\n",
       "    </tr>\n",
       "    <tr>\n",
       "      <th>7</th>\n",
       "      <td>174258</td>\n",
       "      <td>0.0677414</td>\n",
       "    </tr>\n",
       "    <tr>\n",
       "      <th>8</th>\n",
       "      <td>1.3129e+06</td>\n",
       "      <td>0.344725</td>\n",
       "    </tr>\n",
       "    <tr>\n",
       "      <th>9</th>\n",
       "      <td>1.88133e+06</td>\n",
       "      <td>0.367315</td>\n",
       "    </tr>\n",
       "  </tbody>\n",
       "</table>\n",
       "</div>"
      ],
      "text/plain": [
       "           NPV        IRR\n",
       "0  2.84129e+06   0.508144\n",
       "1       925629    0.27226\n",
       "2       753242   0.166964\n",
       "3  1.85007e+06    0.43526\n",
       "4  3.23372e+06   0.591007\n",
       "5  1.94609e+06   0.346173\n",
       "6  2.65261e+06   0.424621\n",
       "7       174258  0.0677414\n",
       "8   1.3129e+06   0.344725\n",
       "9  1.88133e+06   0.367315"
      ]
     },
     "execution_count": 9,
     "metadata": {},
     "output_type": "execute_result"
    }
   ],
   "source": [
    "tabla"
   ]
  }
 ],
 "metadata": {
  "kernelspec": {
   "display_name": "Python 3",
   "language": "python",
   "name": "python3"
  },
  "language_info": {
   "codemirror_mode": {
    "name": "ipython",
    "version": 3
   },
   "file_extension": ".py",
   "mimetype": "text/x-python",
   "name": "python",
   "nbconvert_exporter": "python",
   "pygments_lexer": "ipython3",
   "version": "3.8.5"
  }
 },
 "nbformat": 4,
 "nbformat_minor": 4
}
