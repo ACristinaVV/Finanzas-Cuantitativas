{
 "cells": [
  {
   "cell_type": "markdown",
   "metadata": {},
   "source": [
    "***\n",
    "# <p style='text-align: center;'>`Tarea 3.1`</p>\n",
    "***\n",
    "`Elaborada por: Lyha Espinosa García, Ana Cristina Vázquez Vargas.` `Expedientes: if721861, if721215`\n"
   ]
  },
  {
   "cell_type": "markdown",
   "metadata": {},
   "source": [
    "1. Buy a start up stock that doesn’t pay dividends estimate the Expected Results using Corporate Finance Theory the X factor stochastic \n",
    "Assume a normal distribution.     \n",
    "a)Analytical method  \n",
    "b)Simulate in excel/python to test accuracy  \n",
    "\n",
    "\n",
    "\n"
   ]
  },
  {
   "cell_type": "markdown",
   "metadata": {},
   "source": [
    "Haciendo uso de la fórmula vista en clase para conocer el precio justo de una acción que no paga dividendos se presenta lo siguiente:  \n",
    "\n",
    "$$S_o=\\frac{(A*F-L)}{Q}$$\n",
    "\n",
    "Donde:  \n",
    "$A$ representa los Assets (Activos)  \n",
    "$F$ es conocido como el Factor de ajuste estocástico  \n",
    "$L$ significa Liabilities (Pasivos)  \n",
    "$Q$ es el número de acciones en circulación\n",
    "\n",
    "$A=321195$\n",
    "$L=227791$\n",
    "$Q=503$\n",
    "\n",
    "\n",
    "#### Para encontrar el $E[S_0]$ aplicamos las propiedades de la esperanza\n",
    "\n",
    "$$E[S_0]=E\\left [\\frac{(AF-L)}{Q}  \\right ]$$\n",
    "\n",
    "$$E[S_0]=\\frac{1}{Q}E\\left [ AF-L \\right ]$$\n",
    "\n",
    "$$E[S_0]=\\frac{1}{Q}[E\\left [ AF \\right ]-E\\left [ L \\right ]]$$\n",
    "\n",
    "$$E[S_0]=\\frac{1}{Q}[AE\\left [F \\right ]-E\\left [ L \\right ]]$$\n",
    "\n",
    "#### Sustituyendo la información que tenemos\n",
    "\n",
    "$$E[S_0]=\\frac{1}{503}[321195E\\left [F \\right ]- 227791]$$\n",
    "\n",
    "#### Asumiendo una distribución normal para nuestro factor estocástico F tenemos que:\n",
    "\n",
    "$\\mu=0$\n",
    "$\\sigma=1$\n",
    "\n",
    "#### Por lo tanto\n",
    "\n",
    "$$E[S_0]=\\frac{1}{503}[321195\\left [0 \\right ]- 227791]$$\n",
    "\n",
    "$$E[S_0]=\\frac{1}{503}[- 227791]$$\n",
    "\n",
    "$$E[S_0]=-452.86$$\n"
   ]
  },
  {
   "cell_type": "markdown",
   "metadata": {},
   "source": [
    "#### Para encontrar $V[S_0]$ aplicamos las propiedades de la varianza\n",
    "\n",
    "$$V[S_0]=V\\left [ \\frac{AF-L}{Q} \\right ]$$\n",
    "\n",
    "$$V[S_0]=\\frac{1}{Q^{2}}V\\left [ AF-L \\right ]$$\n",
    "\n",
    "$$V[S_0]=\\frac{1}{Q^{2}}\\left [ V[AF]-V[L] \\right ]$$\n",
    "\n",
    "$$V[S_0]=\\frac{1}{Q^{2}}\\left [ A^{2}V[F]-V[L] \\right ]$$\n",
    "\n",
    "$$V[S_0]=\\frac{A^{2}}{Q^{2}}\\left [ V[F]\\right ]$$\n",
    "\n",
    "#### Sustituyendo con la información dada\n",
    "\n",
    "$$V[S_0]=\\frac{321195^{2}}{503^{2}}\\left [ 1\\right ]$$\n",
    "\n",
    "$$V[S_0]=407757.15$$"
   ]
  },
  {
   "cell_type": "markdown",
   "metadata": {},
   "source": [
    "Para comprobar la certeza de nuestros cálculos analíticos, procedemos a simular el factor estocástico $F$"
   ]
  },
  {
   "cell_type": "code",
   "execution_count": 19,
   "metadata": {},
   "outputs": [],
   "source": [
    "import numpy as np \n",
    "import pandas as pd\n",
    "import matplotlib.pyplot as plt"
   ]
  },
  {
   "cell_type": "code",
   "execution_count": 14,
   "metadata": {},
   "outputs": [],
   "source": [
    "esto=np.random.randn(1,10000)"
   ]
  },
  {
   "cell_type": "code",
   "execution_count": 9,
   "metadata": {},
   "outputs": [],
   "source": [
    "A=321195\n",
    "L=227791\n",
    "Q=503"
   ]
  },
  {
   "cell_type": "code",
   "execution_count": 15,
   "metadata": {},
   "outputs": [],
   "source": [
    "sim=[(A*esto[i]-L)/Q for i in range(len(esto))]"
   ]
  },
  {
   "cell_type": "code",
   "execution_count": 17,
   "metadata": {},
   "outputs": [
    {
     "data": {
      "text/plain": [
       "-449.3737410769848"
      ]
     },
     "execution_count": 17,
     "metadata": {},
     "output_type": "execute_result"
    }
   ],
   "source": [
    "np.mean(sim)"
   ]
  },
  {
   "cell_type": "code",
   "execution_count": 18,
   "metadata": {},
   "outputs": [
    {
     "data": {
      "text/plain": [
       "412194.28544002946"
      ]
     },
     "execution_count": 18,
     "metadata": {},
     "output_type": "execute_result"
    }
   ],
   "source": [
    "np.var(sim)"
   ]
  },
  {
   "cell_type": "markdown",
   "metadata": {},
   "source": [
    "### Reporte de resultados"
   ]
  },
  {
   "cell_type": "markdown",
   "metadata": {},
   "source": [
    "| Método     | $E[S_0]$  | $V[S_0]$    |\n",
    "|------------|---------|-----------|\n",
    "| Analítico  | −452.86 | 407757.15 |\n",
    "| Simulación | -449.37 | 412194.28 |"
   ]
  },
  {
   "cell_type": "markdown",
   "metadata": {},
   "source": [
    "Tal como se observa en la tabla, los valores obtenidos a traves de la simulación son similares a los obtenidos por el método analítico. Es verdad que el valor esperado de un activo no puede ser negativo, por lo que para modificar esto valdría la pena tratar los datos como una distribución distinta a la que pide el problema. \n",
    "\n",
    "En conclusión, el simular un proceso que se puede calcular de manera analitica, resultara en la convergencia de los resultados a valores muy similares. Por ejemplo, en esta tarea se utilizaron solo 10,000 escenarios debido a la carga computacional, no obstante, si se utilizaran 1,000,000 de escenarios, se tendría un resultado practicamente igual al obtenido por medio del método analítico. "
   ]
  }
 ],
 "metadata": {
  "kernelspec": {
   "display_name": "Python 3",
   "language": "python",
   "name": "python3"
  },
  "language_info": {
   "codemirror_mode": {
    "name": "ipython",
    "version": 3
   },
   "file_extension": ".py",
   "mimetype": "text/x-python",
   "name": "python",
   "nbconvert_exporter": "python",
   "pygments_lexer": "ipython3",
   "version": "3.7.3"
  }
 },
 "nbformat": 4,
 "nbformat_minor": 2
}
