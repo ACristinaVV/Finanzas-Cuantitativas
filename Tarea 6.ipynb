{
 "cells": [
  {
   "cell_type": "markdown",
   "metadata": {},
   "source": [
    "***\n",
    "# <p style='text-align: center;'>`Tarea 6`</p>\n",
    "***\n",
    "`Elaborada por: Lyha Espinosa García, Ana Cristina Vázquez Vargas.` `Expedientes: if721861, if721215`\n"
   ]
  },
  {
   "cell_type": "markdown",
   "metadata": {},
   "source": [
    "### Using taylor series solve in detail (a= 0,b= 0 andk= 2). Add all the steps"
   ]
  },
  {
   "cell_type": "markdown",
   "metadata": {},
   "source": [
    "1.$ f(x,y)= e^{xy}+x^{2}y^{2}+5 $"
   ]
  },
  {
   "cell_type": "markdown",
   "metadata": {},
   "source": [
    "$f(x,y)= f(a,b)+\\frac{\\partial f(a,b)}{\\partial x}(x-a)+\\frac{\\partial f(a,b)}{\\partial y}(y-b)+\\frac{1}{2!}\\left [ \\frac{\\partial^2 f(a,b)}{\\partial x^2}(x-a)^{2}+ \\frac{\\partial^2 f(a,b)}{\\partial y^2}(y-b)^{2} +\\frac{\\partial^2 f(a,b)}{\\partial x \\partial y}(x-a)(y-b) +\\frac{\\partial^2 f(a,b)}{\\partial y \\partial x}(y-b)(x-a)\\right ]\n",
    "$"
   ]
  },
  {
   "cell_type": "markdown",
   "metadata": {},
   "source": [
    "$f(a,b)= e^{0}+0+5=6$  \n",
    "\n",
    "$\\frac{\\partial f(x,y)}{\\partial x}=ye^{xy}+2xy^{2}$ por lo tanto $\\frac{\\partial f(a,b)}{\\partial x}=0$\n",
    "\n",
    "$\\frac{\\partial f(x,y)}{\\partial y}=xe^{xy}+2x^{2}y$ es decir $\\frac{\\partial f(a,b)}{\\partial y}=0$\n",
    "\n",
    "$\\frac{\\partial^2 f(x,y)}{\\partial x^2}= y^{2}e^{xy}+2y^{2}$ evaluado tenemos $\\frac{\\partial^2 f(a,b)}{\\partial x^2}= 0$\n",
    "\n",
    "$\\frac{\\partial^2 f(x,y)}{\\partial y^2}= x^{2}e^{xy}+2x^{2}$ entonces $\\frac{\\partial^2 f(a,b)}{\\partial y^2}= 0$\n"
   ]
  },
  {
   "cell_type": "markdown",
   "metadata": {},
   "source": [
    "$\\frac{\\partial^2 f(x,y)}{\\partial x\\partial y}= xye^{xy}+e^{xy}+4xy$ por lo tanto$\\frac{\\partial^2 f(a,b)}{\\partial x \\partial y}= 0 + 1 +0=1$\n",
    "\n",
    "\n",
    "$\\frac{\\partial^2 f(x,y)}{\\partial y\\partial x}= xye^{xy}+e^{xy}+4xy$ es decir $\\frac{\\partial^2 f(a,b)}{\\partial y \\partial x}= 0 + 1 +0 = 1$"
   ]
  },
  {
   "cell_type": "markdown",
   "metadata": {},
   "source": [
    "### Finalmente sustituyendo en la serie de Taylor tenemos que:\n",
    "\n",
    "$f(x,y)=6+0(x-a)+0(y-b)+\\frac{1}{2!}\\left [0(x-a)^{2}+ 0(y-b)^{2} +1(x-a)(y-b) +1(y-b)(x-a)\\right ]$  \n",
    "\n",
    "$f(x,y)=6+\\frac{1}{2!}\\left [xy +xy\\right ]$  \n",
    "\n",
    "$f(x,y)=6+\\frac{1}{2!}\\left [2xy\\right ]$\n",
    "\n",
    "$f(x,y)=6+xy$\n"
   ]
  },
  {
   "cell_type": "markdown",
   "metadata": {},
   "source": []
  },
  {
   "cell_type": "markdown",
   "metadata": {},
   "source": []
  },
  {
   "cell_type": "markdown",
   "metadata": {},
   "source": []
  },
  {
   "cell_type": "markdown",
   "metadata": {},
   "source": []
  }
 ],
 "metadata": {
  "kernelspec": {
   "display_name": "Python 3",
   "language": "python",
   "name": "python3"
  },
  "language_info": {
   "codemirror_mode": {
    "name": "ipython",
    "version": 3
   },
   "file_extension": ".py",
   "mimetype": "text/x-python",
   "name": "python",
   "nbconvert_exporter": "python",
   "pygments_lexer": "ipython3",
   "version": "3.7.3"
  }
 },
 "nbformat": 4,
 "nbformat_minor": 2
}
